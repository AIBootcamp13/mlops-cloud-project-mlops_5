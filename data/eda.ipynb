{
 "cells": [
  {
   "cell_type": "code",
   "execution_count": null,
   "metadata": {},
   "outputs": [],
   "source": [
    "import pandas as pd\n",
    "df = pd.read_parquet('ingest_20250530.parquet')\n",
    "\n",
    "print('Feature columns:', df.columns.tolist())\n",
    "\n",
    "print('Shape:', df.shape)\n",
    "\n",
    "print('Sample data:')\n",
    "print(df)"
   ]
  },
  {
   "cell_type": "code",
   "execution_count": null,
   "metadata": {},
   "outputs": [],
   "source": [
    "import pandas as pd\n",
    "df2 = pd.read_parquet('preprocess_20250530.parquet')\n",
    "\n",
    "print('Feature columns:', df2.columns.tolist())\n",
    "\n",
    "print('Shape:', df2.shape)\n",
    "\n",
    "print('Sample data:')\n",
    "print(df2)"
   ]
  }
 ],
 "metadata": {
  "kernelspec": {
   "display_name": "base",
   "language": "python",
   "name": "python3"
  },
  "language_info": {
   "codemirror_mode": {
    "name": "ipython",
    "version": 3
   },
   "file_extension": ".py",
   "mimetype": "text/x-python",
   "name": "python",
   "nbconvert_exporter": "python",
   "pygments_lexer": "ipython3",
   "version": "3.12.7"
  }
 },
 "nbformat": 4,
 "nbformat_minor": 2
}
